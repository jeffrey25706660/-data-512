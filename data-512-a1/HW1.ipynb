{
 "cells": [
  {
   "cell_type": "code",
   "execution_count": 1,
   "metadata": {},
   "outputs": [
    {
     "name": "stderr",
     "output_type": "stream",
     "text": [
      "C:\\ProgramData\\Anaconda3\\lib\\site-packages\\requests\\__init__.py:91: RequestsDependencyWarning: urllib3 (1.25.10) or chardet (3.0.4) doesn't match a supported version!\n",
      "  RequestsDependencyWarning)\n"
     ]
    }
   ],
   "source": [
    "import json\n",
    "import requests\n",
    "import pandas as pd \n",
    "import matplotlib.pyplot as plt\n",
    "import datetime"
   ]
  },
  {
   "cell_type": "markdown",
   "metadata": {},
   "source": [
    "# A1: Data Curation \n"
   ]
  },
  {
   "cell_type": "markdown",
   "metadata": {},
   "source": [
    "## Author: Jeffrey Lai"
   ]
  },
  {
   "cell_type": "markdown",
   "metadata": {},
   "source": [
    "### Step 1: Gathering the English Wikipedia data from January 2008 through July 2016 for desktop using Legacy Page counts API."
   ]
  },
  {
   "cell_type": "code",
   "execution_count": 2,
   "metadata": {},
   "outputs": [],
   "source": [
    "endpoint_legacy = 'https://wikimedia.org/api/rest_v1/metrics/legacy/pagecounts/aggregate/{project}/{access-site}/{granularity}/{start}/{end}'\n",
    "\n",
    "example_params_legacy = {\"project\" : \"en.wikipedia.org\",\n",
    "                 \"access-site\" : \"desktop-site\",\n",
    "                 \"granularity\" : \"monthly\",\n",
    "                 \"start\" : \"2008010100\",\n",
    "                 \"end\" : \"2016080100\"\n",
    "                    }\n",
    "\n",
    "headers = {\n",
    "    'User-Agent': 'https://github.com/jeffrey25706660',\n",
    "    'From': 'jeff257@uw.edu'\n",
    "}\n",
    "\n",
    "call = requests.get(endpoint_legacy.format(**example_params_legacy), headers=headers)\n",
    "response = call.json()"
   ]
  },
  {
   "cell_type": "markdown",
   "metadata": {},
   "source": [
    "### Write Legacy desktop data to json file"
   ]
  },
  {
   "cell_type": "code",
   "execution_count": 3,
   "metadata": {},
   "outputs": [],
   "source": [
    "with open('pagecounts_desktop-site_200801-201607.json', 'w') as json_file:\n",
    "     json.dump(response, json_file)"
   ]
  },
  {
   "cell_type": "markdown",
   "metadata": {},
   "source": [
    "### Step 1.1: Gathering the data for mobile from English Wikipedia from January 2008 through July 2016. Note: The first full month for which mobile data is available is October 2014."
   ]
  },
  {
   "cell_type": "code",
   "execution_count": 4,
   "metadata": {},
   "outputs": [],
   "source": [
    "example_params_legacy = {\"project\" : \"en.wikipedia.org\",\n",
    "                 \"access-site\" : \"mobile-site\",\n",
    "                 \"granularity\" : \"monthly\",\n",
    "                 \"start\" : \"2008010100\",\n",
    "                 \"end\" : \"2016080100\"\n",
    "                    }\n",
    "\n",
    "headers = {\n",
    "    'User-Agent': 'https://github.com/jeffrey25706660',\n",
    "    'From': 'jeff257@uw.edu'\n",
    "}\n",
    "\n",
    "call = requests.get(endpoint_legacy.format(**example_params_legacy), headers=headers)\n",
    "response = call.json()"
   ]
  },
  {
   "cell_type": "markdown",
   "metadata": {},
   "source": [
    "### Write Legacy mobile data to json file"
   ]
  },
  {
   "cell_type": "code",
   "execution_count": 5,
   "metadata": {},
   "outputs": [],
   "source": [
    "with open('pagecounts_mobile-site_201401-201607.json', 'w') as json_file:\n",
    "     json.dump(response, json_file)"
   ]
  },
  {
   "cell_type": "markdown",
   "metadata": {},
   "source": [
    "# The Pageviews API"
   ]
  },
  {
   "cell_type": "markdown",
   "metadata": {},
   "source": [
    "### Step 1.2: Gathering the data for desktop from Pageviews API from July 2015 through last month filtered by organic (user) traffic"
   ]
  },
  {
   "cell_type": "code",
   "execution_count": 6,
   "metadata": {},
   "outputs": [],
   "source": [
    "endpoint_pageviews = 'https://wikimedia.org/api/rest_v1/metrics/pageviews/aggregate/{project}/{access}/{agent}/{granularity}/{start}/{end}'\n",
    "example_params_pageviews = {\"project\" : \"en.wikipedia.org\",\n",
    "                    \"access\" : \"desktop\",\n",
    "                    \"agent\" : \"user\",\n",
    "                    \"granularity\" : \"monthly\",\n",
    "                    \"start\" : \"2015070100\",\n",
    "                    \"end\" : '2020090100'\n",
    "                        }\n",
    "headers = {\n",
    "    'User-Agent': 'https://github.com/jeffrey25706660',\n",
    "    'From': 'jeff257@uw.edu'\n",
    "}\n",
    "call = requests.get(endpoint_pageviews.format(**example_params_pageviews), headers=headers)\n",
    "response = call.json()"
   ]
  },
  {
   "cell_type": "markdown",
   "metadata": {},
   "source": [
    "### Write Pageviews desktop data to json file"
   ]
  },
  {
   "cell_type": "code",
   "execution_count": 7,
   "metadata": {},
   "outputs": [],
   "source": [
    "with open('pageviews_desktop_201507-202008.json', 'w') as json_file:\n",
    "     json.dump(response, json_file)"
   ]
  },
  {
   "cell_type": "markdown",
   "metadata": {},
   "source": [
    "### Step 1.3 Gathering the data for mobile-web from Pageviews API from July 2015 through last month filtered by organic (user) traffic"
   ]
  },
  {
   "cell_type": "code",
   "execution_count": 8,
   "metadata": {},
   "outputs": [],
   "source": [
    "endpoint_pageviews = 'https://wikimedia.org/api/rest_v1/metrics/pageviews/aggregate/{project}/{access}/{agent}/{granularity}/{start}/{end}'\n",
    "example_params_pageviews = {\"project\" : \"en.wikipedia.org\",\n",
    "                    \"access\" : \"mobile-web\",\n",
    "                    \"agent\" : \"user\",\n",
    "                    \"granularity\" : \"monthly\",\n",
    "                    \"start\" : \"2015070100\",\n",
    "                    \"end\" : '2020090100'\n",
    "                        }\n",
    "headers = {\n",
    "    'User-Agent': 'https://github.com/jeffrey25706660',\n",
    "    'From': 'jeff257@uw.edu'\n",
    "}\n",
    "call = requests.get(endpoint_pageviews.format(**example_params_pageviews), headers=headers)\n",
    "response = call.json()"
   ]
  },
  {
   "cell_type": "markdown",
   "metadata": {},
   "source": [
    "### Write Pageviews mobile-web data to json file"
   ]
  },
  {
   "cell_type": "code",
   "execution_count": 9,
   "metadata": {},
   "outputs": [],
   "source": [
    "with open('pageviews_mobile-web_201507-202008.json', 'w') as json_file:\n",
    "     json.dump(response, json_file)"
   ]
  },
  {
   "cell_type": "markdown",
   "metadata": {},
   "source": [
    "### Step 1.4 Gathering the data for mobile app from Pageviews API from July 2015 through last month filtered by organic (user) traffic"
   ]
  },
  {
   "cell_type": "code",
   "execution_count": 10,
   "metadata": {},
   "outputs": [],
   "source": [
    "endpoint_pageviews = 'https://wikimedia.org/api/rest_v1/metrics/pageviews/aggregate/{project}/{access}/{agent}/{granularity}/{start}/{end}'\n",
    "example_params_pageviews = {\"project\" : \"en.wikipedia.org\",\n",
    "                    \"access\" : \"mobile-app\",\n",
    "                    \"agent\" : \"user\",\n",
    "                    \"granularity\" : \"monthly\",\n",
    "                    \"start\" : \"2015070100\",\n",
    "                    \"end\" : '2020090100'\n",
    "                        }\n",
    "headers = {\n",
    "    'User-Agent': 'https://github.com/jeffrey25706660',\n",
    "    'From': 'jeff257@uw.edu'\n",
    "}\n",
    "call = requests.get(endpoint_pageviews.format(**example_params_pageviews), headers=headers)\n",
    "response = call.json()"
   ]
  },
  {
   "cell_type": "markdown",
   "metadata": {},
   "source": [
    "### Write Pageviews mobile-app data to json file"
   ]
  },
  {
   "cell_type": "code",
   "execution_count": 11,
   "metadata": {},
   "outputs": [],
   "source": [
    "with open('pageviews_mobile-app_201507-202008.json', 'w') as json_file:\n",
    "     json.dump(response, json_file)"
   ]
  },
  {
   "cell_type": "code",
   "execution_count": null,
   "metadata": {},
   "outputs": [],
   "source": []
  },
  {
   "cell_type": "markdown",
   "metadata": {},
   "source": [
    "# Step 2: Processing the data"
   ]
  },
  {
   "cell_type": "markdown",
   "metadata": {},
   "source": [
    "### Read mobile-app and mobile web data from json files."
   ]
  },
  {
   "cell_type": "code",
   "execution_count": 12,
   "metadata": {},
   "outputs": [],
   "source": [
    "with open('C:\\\\Users\\\\jeffr\\\\Data 512\\\\pageviews_mobile-app_201507-202008.json') as f:\n",
    "     pageviews_mobile_app_json = json.load(f)\n",
    "\n",
    "with open('C:\\\\Users\\\\jeffr\\\\Data 512\\\\pageviews_mobile-web_201507-202008.json') as f:\n",
    "     pageviews_mobile_web_json = json.load(f)\n",
    "     \n",
    "pageviews_mobile_app_df = pd.DataFrame.from_dict(pageviews_mobile_app_json['items'])\n",
    "pageviews_mobile_web_df = pd.DataFrame.from_dict(pageviews_mobile_web_json['items'])"
   ]
  },
  {
   "cell_type": "markdown",
   "metadata": {},
   "source": [
    "### Combine the monthly values for mobile-app and mobile-web to create a total mobile traffic count for each month"
   ]
  },
  {
   "cell_type": "markdown",
   "metadata": {},
   "source": [
    "#### Change alias name"
   ]
  },
  {
   "cell_type": "code",
   "execution_count": 13,
   "metadata": {},
   "outputs": [],
   "source": [
    "pageviews_mobile_app_df['access'] = 'mobile'\n",
    "pageviews_mobile_web_df['access'] = 'mobile'"
   ]
  },
  {
   "cell_type": "markdown",
   "metadata": {},
   "source": [
    "#### Append data from pageviews mobile app data and pageviews mobile web data."
   ]
  },
  {
   "cell_type": "code",
   "execution_count": 14,
   "metadata": {},
   "outputs": [],
   "source": [
    "mobile_df = pageviews_mobile_web_df.append(pageviews_mobile_app_df)"
   ]
  },
  {
   "cell_type": "markdown",
   "metadata": {},
   "source": [
    "#### Calculate a total mobile traffic count for each month."
   ]
  },
  {
   "cell_type": "code",
   "execution_count": 15,
   "metadata": {},
   "outputs": [],
   "source": [
    "mobile_df_agg = mobile_df.groupby(['timestamp', 'access']).agg({\"views\":\"sum\"})"
   ]
  },
  {
   "cell_type": "code",
   "execution_count": 16,
   "metadata": {},
   "outputs": [],
   "source": [
    "mobile_df_agg = mobile_df_agg.reset_index()"
   ]
  },
  {
   "cell_type": "markdown",
   "metadata": {},
   "source": [
    "#### Separate the value of timestamp into four-digit year (YYYY) and two-digit month (MM)"
   ]
  },
  {
   "cell_type": "code",
   "execution_count": 17,
   "metadata": {},
   "outputs": [],
   "source": [
    "\n",
    "mobile_df_agg['year'] = mobile_df_agg['timestamp'].str[:4]\n",
    "mobile_df_agg['month'] = mobile_df_agg['timestamp'].str[4:6]\n"
   ]
  },
  {
   "cell_type": "markdown",
   "metadata": {},
   "source": [
    "#### Drop unnessessary columns, keep views by month, year, and months"
   ]
  },
  {
   "cell_type": "code",
   "execution_count": 18,
   "metadata": {},
   "outputs": [],
   "source": [
    "mobile_df_agg_drop = mobile_df_agg.drop(columns=['timestamp','access'])"
   ]
  },
  {
   "cell_type": "markdown",
   "metadata": {},
   "source": [
    "#### Rename columns"
   ]
  },
  {
   "cell_type": "code",
   "execution_count": 19,
   "metadata": {},
   "outputs": [],
   "source": [
    "mobile_df_agg_f = mobile_df_agg_drop.rename(columns= {'views':'pageview_mobile_views'})"
   ]
  },
  {
   "cell_type": "markdown",
   "metadata": {},
   "source": [
    "#### Read Page View desktop data"
   ]
  },
  {
   "cell_type": "code",
   "execution_count": 20,
   "metadata": {},
   "outputs": [],
   "source": [
    "with open('C:\\\\Users\\\\jeffr\\\\Data 512\\\\pageviews_desktop_201507-202008.json') as f:\n",
    "     pageviews_desktop_json = json.load(f)\n",
    "\n",
    "pageviews_desktop_df = pd.DataFrame.from_dict(pageviews_desktop_json['items'])"
   ]
  },
  {
   "cell_type": "markdown",
   "metadata": {},
   "source": [
    "#### Separate the value of timestamp into four-digit year (YYYY) and two-digit month (MM)"
   ]
  },
  {
   "cell_type": "code",
   "execution_count": 21,
   "metadata": {},
   "outputs": [],
   "source": [
    "\n",
    "pageviews_desktop_df['year'] = pageviews_desktop_df['timestamp'].str[:4]\n",
    "pageviews_desktop_df['month'] =pageviews_desktop_df['timestamp'].str[4:6]"
   ]
  },
  {
   "cell_type": "markdown",
   "metadata": {},
   "source": [
    "#### Drop unnessessary columns, keep views by month, year, and months"
   ]
  },
  {
   "cell_type": "code",
   "execution_count": 22,
   "metadata": {},
   "outputs": [],
   "source": [
    "pageviews_desktop_drop = pageviews_desktop_df.drop(columns=['timestamp','access','agent','granularity','project'])"
   ]
  },
  {
   "cell_type": "markdown",
   "metadata": {},
   "source": [
    "#### Rename columns"
   ]
  },
  {
   "cell_type": "code",
   "execution_count": 23,
   "metadata": {},
   "outputs": [],
   "source": [
    "pageviews_desktop_f = pageviews_desktop_drop.rename(columns= {'views':'pageview_desktop_views'})"
   ]
  },
  {
   "cell_type": "markdown",
   "metadata": {},
   "source": [
    "#### Combine Page View desktop data with Page with mobile data"
   ]
  },
  {
   "cell_type": "code",
   "execution_count": 24,
   "metadata": {},
   "outputs": [],
   "source": [
    "result = pd.merge(mobile_df_agg_f,pageviews_desktop_f,how='inner', on=['year', 'month'])"
   ]
  },
  {
   "cell_type": "markdown",
   "metadata": {},
   "source": [
    "#### Calculate pageview_all_views column"
   ]
  },
  {
   "cell_type": "code",
   "execution_count": 25,
   "metadata": {},
   "outputs": [],
   "source": [
    "result['pageview_all_views'] = result['pageview_mobile_views'] + result['pageview_desktop_views']"
   ]
  },
  {
   "cell_type": "code",
   "execution_count": null,
   "metadata": {},
   "outputs": [],
   "source": []
  },
  {
   "cell_type": "markdown",
   "metadata": {},
   "source": [
    "####  Read Page Count mobile data"
   ]
  },
  {
   "cell_type": "code",
   "execution_count": 26,
   "metadata": {},
   "outputs": [],
   "source": [
    "with open('C:\\\\Users\\\\jeffr\\\\Data 512\\\\pagecounts_mobile-site_201401-201607.json') as f:\n",
    "     pagecount_mobile_json = json.load(f)\n",
    "\n",
    "pagecount_mobile_json_df = pd.DataFrame.from_dict(pagecount_mobile_json['items'])"
   ]
  },
  {
   "cell_type": "markdown",
   "metadata": {},
   "source": [
    "#### Separate the value of timestamp into four-digit year (YYYY) and two-digit month (MM)"
   ]
  },
  {
   "cell_type": "code",
   "execution_count": 27,
   "metadata": {},
   "outputs": [],
   "source": [
    "pagecount_mobile_json_df['year'] = pagecount_mobile_json_df['timestamp'].str[:4]\n",
    "pagecount_mobile_json_df['month'] = pagecount_mobile_json_df['timestamp'].str[4:6]"
   ]
  },
  {
   "cell_type": "markdown",
   "metadata": {},
   "source": [
    "#### Drop unnessessary columns, keep views by month, year, and months"
   ]
  },
  {
   "cell_type": "code",
   "execution_count": 28,
   "metadata": {},
   "outputs": [],
   "source": [
    "pagecount_mobile_json_df_drop = pagecount_mobile_json_df.drop(columns=['timestamp','access-site','granularity','project'])"
   ]
  },
  {
   "cell_type": "markdown",
   "metadata": {},
   "source": [
    "#### Rename column"
   ]
  },
  {
   "cell_type": "code",
   "execution_count": 29,
   "metadata": {},
   "outputs": [],
   "source": [
    "pagecount_mobile_json_df_f = pagecount_mobile_json_df_drop.rename(columns= {'count':'pagecount_mobile_views'})"
   ]
  },
  {
   "cell_type": "markdown",
   "metadata": {},
   "source": [
    "#### Combine data with the result data frame using full outer join to make sure data sets are all included"
   ]
  },
  {
   "cell_type": "code",
   "execution_count": 30,
   "metadata": {},
   "outputs": [],
   "source": [
    "result = pd.merge(result,pagecount_mobile_json_df_f,how='outer', on=['year', 'month'])"
   ]
  },
  {
   "cell_type": "markdown",
   "metadata": {},
   "source": [
    "####  Read Page Count desktop data"
   ]
  },
  {
   "cell_type": "code",
   "execution_count": 31,
   "metadata": {},
   "outputs": [],
   "source": [
    "with open('C:\\\\Users\\\\jeffr\\\\Data 512\\\\pagecounts_desktop-site_200801-201607.json') as f:\n",
    "     pagecount_desktop_json = json.load(f)\n",
    "\n",
    "pagecount_desktop_json_df = pd.DataFrame.from_dict(pagecount_desktop_json['items'])"
   ]
  },
  {
   "cell_type": "markdown",
   "metadata": {},
   "source": [
    "#### Separate the value of timestamp into four-digit year (YYYY) and two-digit month (MM)\n"
   ]
  },
  {
   "cell_type": "code",
   "execution_count": 32,
   "metadata": {},
   "outputs": [],
   "source": [
    "pagecount_desktop_json_df['year'] = pagecount_desktop_json_df['timestamp'].str[:4]\n",
    "pagecount_desktop_json_df['month'] = pagecount_desktop_json_df['timestamp'].str[4:6]"
   ]
  },
  {
   "cell_type": "markdown",
   "metadata": {},
   "source": [
    "#### Drop unnessessary columns"
   ]
  },
  {
   "cell_type": "code",
   "execution_count": 33,
   "metadata": {},
   "outputs": [],
   "source": [
    "pagecount_desktop_json_df_drop = pagecount_desktop_json_df.drop(columns=['timestamp','access-site','granularity','project'])"
   ]
  },
  {
   "cell_type": "markdown",
   "metadata": {},
   "source": [
    "#### Rename column"
   ]
  },
  {
   "cell_type": "code",
   "execution_count": 34,
   "metadata": {},
   "outputs": [],
   "source": [
    "pagecount_desktop_json_df_f = pagecount_desktop_json_df_drop.rename(columns= {'count':'pagecount_desktop_views'})"
   ]
  },
  {
   "cell_type": "markdown",
   "metadata": {},
   "source": [
    "#### Combine data with the result data frame using full outer join to make sure data sets are all included"
   ]
  },
  {
   "cell_type": "code",
   "execution_count": 35,
   "metadata": {},
   "outputs": [],
   "source": [
    "result = pd.merge(result,pagecount_desktop_json_df_f,how='outer', on=['year', 'month'])"
   ]
  },
  {
   "cell_type": "markdown",
   "metadata": {},
   "source": [
    "#### Calculate pagecount_all_views column"
   ]
  },
  {
   "cell_type": "code",
   "execution_count": 36,
   "metadata": {},
   "outputs": [],
   "source": [
    "result['pagecount_all_views'] = result['pagecount_mobile_views'].fillna(0) + result['pagecount_desktop_views']"
   ]
  },
  {
   "cell_type": "markdown",
   "metadata": {},
   "source": [
    "#### Export to CSV with file name \"en-wikipedia_traffic_200712-202008.csv\""
   ]
  },
  {
   "cell_type": "code",
   "execution_count": 37,
   "metadata": {},
   "outputs": [],
   "source": [
    "result.to_csv(\"C:\\\\Users\\\\jeffr\\\\Data 512\\\\en-wikipedia_traffic_200712-202008.csv\",index=False)"
   ]
  },
  {
   "cell_type": "markdown",
   "metadata": {},
   "source": [
    "# Step 3: Analyze the data"
   ]
  },
  {
   "cell_type": "markdown",
   "metadata": {},
   "source": [
    "### Read data from en-wikipedia_traffic_200712-202008.csv"
   ]
  },
  {
   "cell_type": "code",
   "execution_count": 38,
   "metadata": {},
   "outputs": [],
   "source": [
    "data = pd.read_csv('C:\\\\Users\\\\jeffr\\\\Data 512\\\\en-wikipedia_traffic_200712-202008.csv')"
   ]
  },
  {
   "cell_type": "markdown",
   "metadata": {},
   "source": [
    "### Add date time to data frame"
   ]
  },
  {
   "cell_type": "code",
   "execution_count": 39,
   "metadata": {},
   "outputs": [],
   "source": [
    "data['yr-month'] = pd.to_datetime(data[['year', 'month']].assign(DAY=1))"
   ]
  },
  {
   "cell_type": "markdown",
   "metadata": {},
   "source": [
    "### Sort data frame by date in order to present time series in the right order."
   ]
  },
  {
   "cell_type": "code",
   "execution_count": 40,
   "metadata": {},
   "outputs": [],
   "source": [
    "data_sort = data.sort_values(by='yr-month')"
   ]
  },
  {
   "cell_type": "markdown",
   "metadata": {},
   "source": [
    "### Plot mobile traffic, desktop traffic, and all traffic with correct scale to visualize data and legends to label the data."
   ]
  },
  {
   "cell_type": "code",
   "execution_count": 41,
   "metadata": {},
   "outputs": [
    {
     "name": "stderr",
     "output_type": "stream",
     "text": [
      "C:\\ProgramData\\Anaconda3\\lib\\site-packages\\pandas\\plotting\\_converter.py:129: FutureWarning: Using an implicitly registered datetime converter for a matplotlib plotting method. The converter was registered by pandas on import. Future versions of pandas will require you to explicitly register matplotlib converters.\n",
      "\n",
      "To register the converters:\n",
      "\t>>> from pandas.plotting import register_matplotlib_converters\n",
      "\t>>> register_matplotlib_converters()\n",
      "  warnings.warn(msg, FutureWarning)\n"
     ]
    },
    {
     "data": {
      "image/png": "[encoded data removed]",
      "text/plain": [
       "<Figure size 1080x360 with 1 Axes>"
      ]
     },
     "metadata": {
      "needs_background": "light"
     },
     "output_type": "display_data"
    }
   ],
   "source": [
    "\n",
    "plt.figure(figsize=(15,5)).suptitle('Page Views on English Wikipedia (x 1,000,000)', fontsize=10)\n",
    "plt.ticklabel_format(style='sci', axis='y', scilimits=(6,6)) #Use (m,m)  to fix the order of magnitude to 10m\n",
    "plt.ylim(0, 12000*1000000)\n",
    "plt.plot( 'yr-month', 'pagecount_desktop_views', data=data_sort, marker='', color='green',linestyle='dashed', linewidth=2, label='main site')\n",
    "plt.plot( 'yr-month', 'pagecount_all_views', data=data_sort, marker='', color='black', linewidth=2, linestyle='dashed', label='Total')\n",
    "plt.plot( 'yr-month', 'pagecount_mobile_views', data=data_sort, marker='', color='blue', linewidth=2, linestyle='dashed', label='Mobile site')\n",
    "plt.plot( 'yr-month', 'pageview_all_views', data=data_sort, marker='', color='black', linewidth=2, label='Page View All')\n",
    "plt.plot( 'yr-month', 'pageview_desktop_views', data=data_sort, marker='', color='green', linewidth=2, label='pageview_desktop_views')\n",
    "plt.plot( 'yr-month', 'pageview_mobile_views', data=data_sort, marker='', color='blue', linewidth=2, label='pageview_mobile_views')\n",
    "plt.legend()\n",
    "plt.xlabel('views', fontsize=10)\n",
    "plt.ylabel('year-month', fontsize=10)\n",
    "plt.grid()\n",
    "plt.savefig('test.jpg')\n"
   ]
  },
  {
   "cell_type": "code",
   "execution_count": null,
   "metadata": {},
   "outputs": [],
   "source": []
  },
  {
   "cell_type": "code",
   "execution_count": null,
   "metadata": {},
   "outputs": [],
   "source": []
  },
  {
   "cell_type": "code",
   "execution_count": null,
   "metadata": {},
   "outputs": [],
   "source": []
  },
  {
   "cell_type": "code",
   "execution_count": null,
   "metadata": {},
   "outputs": [],
   "source": []
  },
  {
   "cell_type": "code",
   "execution_count": null,
   "metadata": {},
   "outputs": [],
   "source": []
  }
 ],
 "metadata": {
  "kernelspec": {
   "display_name": "Python 3",
   "language": "python",
   "name": "python3"
  },
  "language_info": {
   "codemirror_mode": {
    "name": "ipython",
    "version": 3
   },
   "file_extension": ".py",
   "mimetype": "text/x-python",
   "name": "python",
   "nbconvert_exporter": "python",
   "pygments_lexer": "ipython3",
   "version": "3.7.3"
  }
 },
 "nbformat": 4,
 "nbformat_minor": 2
}
